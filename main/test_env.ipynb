{
 "cells": [
  {
   "cell_type": "code",
   "execution_count": 1,
   "id": "662dcd5f",
   "metadata": {},
   "outputs": [
    {
     "ename": "KeyError",
     "evalue": "'transactions'",
     "output_type": "error",
     "traceback": [
      "\u001b[1;31m---------------------------------------------------------------------------\u001b[0m",
      "\u001b[1;31mKeyError\u001b[0m                                  Traceback (most recent call last)",
      "Cell \u001b[1;32mIn[1], line 9\u001b[0m\n\u001b[0;32m      6\u001b[0m tables \u001b[38;5;241m=\u001b[39m tf\u001b[38;5;241m.\u001b[39mexcecute_query_tables(conn)\n\u001b[0;32m      8\u001b[0m dfs \u001b[38;5;241m=\u001b[39m tf\u001b[38;5;241m.\u001b[39mcreate_df_variable(tables, conn)\n\u001b[1;32m----> 9\u001b[0m transactions \u001b[38;5;241m=\u001b[39m \u001b[43mdfs\u001b[49m\u001b[43m[\u001b[49m\u001b[38;5;124;43m'\u001b[39;49m\u001b[38;5;124;43mtransactions\u001b[39;49m\u001b[38;5;124;43m'\u001b[39;49m\u001b[43m]\u001b[49m\n\u001b[0;32m     10\u001b[0m customers\u001b[38;5;241m=\u001b[39m dfs[\u001b[38;5;124m'\u001b[39m\u001b[38;5;124mcustomers\u001b[39m\u001b[38;5;124m'\u001b[39m]\n\u001b[0;32m     11\u001b[0m products \u001b[38;5;241m=\u001b[39m dfs[\u001b[38;5;124m'\u001b[39m\u001b[38;5;124mproducts\u001b[39m\u001b[38;5;124m'\u001b[39m]\n",
      "\u001b[1;31mKeyError\u001b[0m: 'transactions'"
     ]
    }
   ],
   "source": [
    "import pandas as pd\n",
    "import sqlite3\n",
    "import funciones.test_func as tf\n",
    "\n",
    "conn = sqlite3.connect('mi_base.db') \n",
    "tables = tf.excecute_query_tables(conn)\n",
    "\n",
    "dfs = tf.create_df_variable(tables, conn)\n",
    "transactions = dfs['transactions']\n",
    "customers= dfs['customers']\n",
    "products = dfs['products']"
   ]
  },
  {
   "cell_type": "code",
   "execution_count": null,
   "id": "1b3d03a4",
   "metadata": {},
   "outputs": [],
   "source": [
    "transactions"
   ]
  }
 ],
 "metadata": {
  "kernelspec": {
   "display_name": "Python 3",
   "language": "python",
   "name": "python3"
  },
  "language_info": {
   "codemirror_mode": {
    "name": "ipython",
    "version": 3
   },
   "file_extension": ".py",
   "mimetype": "text/x-python",
   "name": "python",
   "nbconvert_exporter": "python",
   "pygments_lexer": "ipython3",
   "version": "3.12.2"
  }
 },
 "nbformat": 4,
 "nbformat_minor": 5
}
